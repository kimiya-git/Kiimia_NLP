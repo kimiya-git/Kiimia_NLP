{
 "cells": [
  {
   "cell_type": "code",
   "id": "initial_id",
   "metadata": {
    "collapsed": true,
    "ExecuteTime": {
     "end_time": "2025-06-06T21:32:29.926272Z",
     "start_time": "2025-06-06T21:32:29.014857Z"
    }
   },
   "source": "import pandas as pd",
   "outputs": [],
   "execution_count": 2
  },
  {
   "metadata": {
    "ExecuteTime": {
     "end_time": "2025-06-06T21:32:31.258328Z",
     "start_time": "2025-06-06T21:32:31.220058Z"
    }
   },
   "cell_type": "code",
   "source": "df = pd.read_csv(\"C:/Users/Asus/PycharmProjects/NLP_kimia/Kiimia_NLP/data/wikipedia_dataset.csv\")",
   "id": "58d71e1b1a25da7a",
   "outputs": [],
   "execution_count": 3
  },
  {
   "metadata": {
    "ExecuteTime": {
     "end_time": "2025-06-06T21:32:45.906952Z",
     "start_time": "2025-06-06T21:32:45.894118Z"
    }
   },
   "cell_type": "code",
   "source": "df.head(5)",
   "id": "65c16ee3453b175d",
   "outputs": [
    {
     "data": {
      "text/plain": [
       "                title                                               text  \\\n",
       "0  Derrick's sandbank  Derrick's sandbank is an island in the Seychel...   \n",
       "1         Ecodistrict  An ecodistrict or eco-district (from \"ecologic...   \n",
       "2             Biology  Biology is the scientific study of life and li...   \n",
       "3            Allusion  Allusion, or alluding, is a figure of speech t...   \n",
       "4    Domestic realism  Domestic realism normally refers to the genre ...   \n",
       "\n",
       "     category                                                url  label  \n",
       "0     Islands  https://en.wikipedia.org/wiki/Derrick%27s_sand...      1  \n",
       "1      Cities          https://en.wikipedia.org/wiki/Ecodistrict      1  \n",
       "2     Biology              https://en.wikipedia.org/wiki/Biology      0  \n",
       "3  Literature             https://en.wikipedia.org/wiki/Allusion      0  \n",
       "4  Literature     https://en.wikipedia.org/wiki/Domestic_realism      0  "
      ],
      "text/html": [
       "<div>\n",
       "<style scoped>\n",
       "    .dataframe tbody tr th:only-of-type {\n",
       "        vertical-align: middle;\n",
       "    }\n",
       "\n",
       "    .dataframe tbody tr th {\n",
       "        vertical-align: top;\n",
       "    }\n",
       "\n",
       "    .dataframe thead th {\n",
       "        text-align: right;\n",
       "    }\n",
       "</style>\n",
       "<table border=\"1\" class=\"dataframe\">\n",
       "  <thead>\n",
       "    <tr style=\"text-align: right;\">\n",
       "      <th></th>\n",
       "      <th>title</th>\n",
       "      <th>text</th>\n",
       "      <th>category</th>\n",
       "      <th>url</th>\n",
       "      <th>label</th>\n",
       "    </tr>\n",
       "  </thead>\n",
       "  <tbody>\n",
       "    <tr>\n",
       "      <th>0</th>\n",
       "      <td>Derrick's sandbank</td>\n",
       "      <td>Derrick's sandbank is an island in the Seychel...</td>\n",
       "      <td>Islands</td>\n",
       "      <td>https://en.wikipedia.org/wiki/Derrick%27s_sand...</td>\n",
       "      <td>1</td>\n",
       "    </tr>\n",
       "    <tr>\n",
       "      <th>1</th>\n",
       "      <td>Ecodistrict</td>\n",
       "      <td>An ecodistrict or eco-district (from \"ecologic...</td>\n",
       "      <td>Cities</td>\n",
       "      <td>https://en.wikipedia.org/wiki/Ecodistrict</td>\n",
       "      <td>1</td>\n",
       "    </tr>\n",
       "    <tr>\n",
       "      <th>2</th>\n",
       "      <td>Biology</td>\n",
       "      <td>Biology is the scientific study of life and li...</td>\n",
       "      <td>Biology</td>\n",
       "      <td>https://en.wikipedia.org/wiki/Biology</td>\n",
       "      <td>0</td>\n",
       "    </tr>\n",
       "    <tr>\n",
       "      <th>3</th>\n",
       "      <td>Allusion</td>\n",
       "      <td>Allusion, or alluding, is a figure of speech t...</td>\n",
       "      <td>Literature</td>\n",
       "      <td>https://en.wikipedia.org/wiki/Allusion</td>\n",
       "      <td>0</td>\n",
       "    </tr>\n",
       "    <tr>\n",
       "      <th>4</th>\n",
       "      <td>Domestic realism</td>\n",
       "      <td>Domestic realism normally refers to the genre ...</td>\n",
       "      <td>Literature</td>\n",
       "      <td>https://en.wikipedia.org/wiki/Domestic_realism</td>\n",
       "      <td>0</td>\n",
       "    </tr>\n",
       "  </tbody>\n",
       "</table>\n",
       "</div>"
      ]
     },
     "execution_count": 4,
     "metadata": {},
     "output_type": "execute_result"
    }
   ],
   "execution_count": 4
  },
  {
   "metadata": {
    "ExecuteTime": {
     "end_time": "2025-06-06T22:02:28.922455Z",
     "start_time": "2025-06-06T22:02:28.861849Z"
    }
   },
   "cell_type": "code",
   "source": [
    "df2 = pd.read_csv(r\"C:\\Users\\Asus\\PycharmProjects\\NLP_kimia\\Kiimia_NLP\\data\\processed_dataset.csv\")\n",
    "df2.head(5)"
   ],
   "id": "a06d13a16e7af479",
   "outputs": [
    {
     "data": {
      "text/plain": [
       "                title                                               text  \\\n",
       "0  Derrick's sandbank  Derrick's sandbank is an island in the Seychel...   \n",
       "1         Ecodistrict  An ecodistrict or eco-district (from \"ecologic...   \n",
       "2             Biology  Biology is the scientific study of life and li...   \n",
       "3            Allusion  Allusion, or alluding, is a figure of speech t...   \n",
       "4    Domestic realism  Domestic realism normally refers to the genre ...   \n",
       "\n",
       "     category                                                url  label  \\\n",
       "0     Islands  https://en.wikipedia.org/wiki/Derrick%27s_sand...      1   \n",
       "1      Cities          https://en.wikipedia.org/wiki/Ecodistrict      1   \n",
       "2     Biology              https://en.wikipedia.org/wiki/Biology      0   \n",
       "3  Literature             https://en.wikipedia.org/wiki/Allusion      0   \n",
       "4  Literature     https://en.wikipedia.org/wiki/Domestic_realism      0   \n",
       "\n",
       "                                      processed_text  \n",
       "0  derrick sandbank island seychelles emerged fol...  \n",
       "1  ecodistrict ecodistrict ecological district ne...  \n",
       "2  biology scientific study life living organism ...  \n",
       "3  allusion alluding figure speech make reference...  \n",
       "4  domestic realism normally refers genre thcentu...  "
      ],
      "text/html": [
       "<div>\n",
       "<style scoped>\n",
       "    .dataframe tbody tr th:only-of-type {\n",
       "        vertical-align: middle;\n",
       "    }\n",
       "\n",
       "    .dataframe tbody tr th {\n",
       "        vertical-align: top;\n",
       "    }\n",
       "\n",
       "    .dataframe thead th {\n",
       "        text-align: right;\n",
       "    }\n",
       "</style>\n",
       "<table border=\"1\" class=\"dataframe\">\n",
       "  <thead>\n",
       "    <tr style=\"text-align: right;\">\n",
       "      <th></th>\n",
       "      <th>title</th>\n",
       "      <th>text</th>\n",
       "      <th>category</th>\n",
       "      <th>url</th>\n",
       "      <th>label</th>\n",
       "      <th>processed_text</th>\n",
       "    </tr>\n",
       "  </thead>\n",
       "  <tbody>\n",
       "    <tr>\n",
       "      <th>0</th>\n",
       "      <td>Derrick's sandbank</td>\n",
       "      <td>Derrick's sandbank is an island in the Seychel...</td>\n",
       "      <td>Islands</td>\n",
       "      <td>https://en.wikipedia.org/wiki/Derrick%27s_sand...</td>\n",
       "      <td>1</td>\n",
       "      <td>derrick sandbank island seychelles emerged fol...</td>\n",
       "    </tr>\n",
       "    <tr>\n",
       "      <th>1</th>\n",
       "      <td>Ecodistrict</td>\n",
       "      <td>An ecodistrict or eco-district (from \"ecologic...</td>\n",
       "      <td>Cities</td>\n",
       "      <td>https://en.wikipedia.org/wiki/Ecodistrict</td>\n",
       "      <td>1</td>\n",
       "      <td>ecodistrict ecodistrict ecological district ne...</td>\n",
       "    </tr>\n",
       "    <tr>\n",
       "      <th>2</th>\n",
       "      <td>Biology</td>\n",
       "      <td>Biology is the scientific study of life and li...</td>\n",
       "      <td>Biology</td>\n",
       "      <td>https://en.wikipedia.org/wiki/Biology</td>\n",
       "      <td>0</td>\n",
       "      <td>biology scientific study life living organism ...</td>\n",
       "    </tr>\n",
       "    <tr>\n",
       "      <th>3</th>\n",
       "      <td>Allusion</td>\n",
       "      <td>Allusion, or alluding, is a figure of speech t...</td>\n",
       "      <td>Literature</td>\n",
       "      <td>https://en.wikipedia.org/wiki/Allusion</td>\n",
       "      <td>0</td>\n",
       "      <td>allusion alluding figure speech make reference...</td>\n",
       "    </tr>\n",
       "    <tr>\n",
       "      <th>4</th>\n",
       "      <td>Domestic realism</td>\n",
       "      <td>Domestic realism normally refers to the genre ...</td>\n",
       "      <td>Literature</td>\n",
       "      <td>https://en.wikipedia.org/wiki/Domestic_realism</td>\n",
       "      <td>0</td>\n",
       "      <td>domestic realism normally refers genre thcentu...</td>\n",
       "    </tr>\n",
       "  </tbody>\n",
       "</table>\n",
       "</div>"
      ]
     },
     "execution_count": 5,
     "metadata": {},
     "output_type": "execute_result"
    }
   ],
   "execution_count": 5
  }
 ],
 "metadata": {
  "kernelspec": {
   "display_name": "Python 3",
   "language": "python",
   "name": "python3"
  },
  "language_info": {
   "codemirror_mode": {
    "name": "ipython",
    "version": 2
   },
   "file_extension": ".py",
   "mimetype": "text/x-python",
   "name": "python",
   "nbconvert_exporter": "python",
   "pygments_lexer": "ipython2",
   "version": "2.7.6"
  }
 },
 "nbformat": 4,
 "nbformat_minor": 5
}
